{
 "cells": [
  {
   "cell_type": "code",
   "execution_count": 22,
   "metadata": {},
   "outputs": [
    {
     "data": {
      "text/html": [
       "<div>\n",
       "<style scoped>\n",
       "    .dataframe tbody tr th:only-of-type {\n",
       "        vertical-align: middle;\n",
       "    }\n",
       "\n",
       "    .dataframe tbody tr th {\n",
       "        vertical-align: top;\n",
       "    }\n",
       "\n",
       "    .dataframe thead th {\n",
       "        text-align: right;\n",
       "    }\n",
       "</style>\n",
       "<table border=\"1\" class=\"dataframe\">\n",
       "  <thead>\n",
       "    <tr style=\"text-align: right;\">\n",
       "      <th></th>\n",
       "      <th>city</th>\n",
       "      <th>date</th>\n",
       "      <th>fare</th>\n",
       "      <th>ride_id</th>\n",
       "      <th>driver_count</th>\n",
       "      <th>type</th>\n",
       "    </tr>\n",
       "  </thead>\n",
       "  <tbody>\n",
       "    <tr>\n",
       "      <th>0</th>\n",
       "      <td>Lake Jonathanshire</td>\n",
       "      <td>2018-01-14 10:14:22</td>\n",
       "      <td>13.83</td>\n",
       "      <td>5739410935873</td>\n",
       "      <td>5</td>\n",
       "      <td>Urban</td>\n",
       "    </tr>\n",
       "    <tr>\n",
       "      <th>1</th>\n",
       "      <td>Lake Jonathanshire</td>\n",
       "      <td>2018-04-07 20:51:11</td>\n",
       "      <td>31.25</td>\n",
       "      <td>4441251834598</td>\n",
       "      <td>5</td>\n",
       "      <td>Urban</td>\n",
       "    </tr>\n",
       "    <tr>\n",
       "      <th>2</th>\n",
       "      <td>Lake Jonathanshire</td>\n",
       "      <td>2018-03-09 23:45:55</td>\n",
       "      <td>19.89</td>\n",
       "      <td>2389495660448</td>\n",
       "      <td>5</td>\n",
       "      <td>Urban</td>\n",
       "    </tr>\n",
       "    <tr>\n",
       "      <th>3</th>\n",
       "      <td>Lake Jonathanshire</td>\n",
       "      <td>2018-04-07 18:09:21</td>\n",
       "      <td>24.28</td>\n",
       "      <td>7796805191168</td>\n",
       "      <td>5</td>\n",
       "      <td>Urban</td>\n",
       "    </tr>\n",
       "    <tr>\n",
       "      <th>4</th>\n",
       "      <td>Lake Jonathanshire</td>\n",
       "      <td>2018-01-02 14:14:50</td>\n",
       "      <td>13.89</td>\n",
       "      <td>424254840012</td>\n",
       "      <td>5</td>\n",
       "      <td>Urban</td>\n",
       "    </tr>\n",
       "  </tbody>\n",
       "</table>\n",
       "</div>"
      ],
      "text/plain": [
       "                 city                 date   fare        ride_id  \\\n",
       "0  Lake Jonathanshire  2018-01-14 10:14:22  13.83  5739410935873   \n",
       "1  Lake Jonathanshire  2018-04-07 20:51:11  31.25  4441251834598   \n",
       "2  Lake Jonathanshire  2018-03-09 23:45:55  19.89  2389495660448   \n",
       "3  Lake Jonathanshire  2018-04-07 18:09:21  24.28  7796805191168   \n",
       "4  Lake Jonathanshire  2018-01-02 14:14:50  13.89   424254840012   \n",
       "\n",
       "   driver_count   type  \n",
       "0             5  Urban  \n",
       "1             5  Urban  \n",
       "2             5  Urban  \n",
       "3             5  Urban  \n",
       "4             5  Urban  "
      ]
     },
     "execution_count": 22,
     "metadata": {},
     "output_type": "execute_result"
    }
   ],
   "source": [
    "%matplotlib inline\n",
    "# Dependencies and Setup\n",
    "import matplotlib.pyplot as plt\n",
    "import matplotlib.patches as mpatches\n",
    "import pandas as pd\n",
    "import numpy as np\n",
    "import os\n",
    "import csv\n",
    "# File to Load (Remember to change these)\n",
    "city_data_to_load = \"data/city_data.csv\"\n",
    "ride_data_to_load = \"data/ride_data.csv\"\n",
    "\n",
    "# Read the City and Ride Data\n",
    "cdf = pd.read_csv(city_data_to_load)\n",
    "rdf = pd.read_csv(ride_data_to_load)\n",
    "\n",
    "# Combine the data into a single dataset\n",
    "merge_table = pd.merge(rdf, cdf, on=\"city\", how=\"outer\")\n",
    "\n",
    "\n",
    "# Display the data table for preview\n",
    "merge_table.head()\n",
    "#print(gbdf.head())"
   ]
  },
  {
   "cell_type": "code",
   "execution_count": 4,
   "metadata": {
    "scrolled": true
   },
   "outputs": [
    {
     "name": "stdout",
     "output_type": "stream",
     "text": [
      "                    fare       ride_id  driver_count  ridespc city type\n",
      "city                                                                   \n",
      "Amandaburgh    24.641667  5.359336e+12          12.0       18     Urban\n",
      "Barajasview    25.332273  4.676968e+12          26.0       22     Urban\n",
      "Barronchester  36.422500  4.460796e+12          11.0       16  Suburban\n",
      "Bethanyland    32.956111  5.842550e+12          22.0       18  Suburban\n",
      "Bradshawfurt   40.064000  3.735294e+12           7.0       10     Rural\n",
      "                      fare       ride_id  driver_count  ridespc city type\n",
      "city                                                                     \n",
      "Amandaburgh      24.641667  5.359336e+12          12.0       18     Urban\n",
      "Barajasview      25.332273  4.676968e+12          26.0       22     Urban\n",
      "Carriemouth      28.314444  5.184855e+12          52.0       27     Urban\n",
      "Christopherfurt  24.501852  4.582307e+12          41.0       27     Urban\n",
      "Deanville        25.842632  4.901508e+12          49.0       19     Urban\n",
      "                    City  City Fare  Rides Per City  Drivers Per City\n",
      "0     Lake Jonathanshire     562.22               5                24\n",
      "1     South Michelleport     758.00              72                31\n",
      "2     Port Samanthamouth     641.07              57                25\n",
      "3             Rodneyfort     658.19              34                23\n",
      "4             South Jack     436.34              46                19\n",
      "5           South Latoya     381.77              10                19\n",
      "6          New Paulville     476.87              44                22\n",
      "7           Simpsonburgh     560.54              21                24\n",
      "8        South Karenland    1008.35               4                38\n",
      "9          North Jasmine     756.16              33                30\n",
      "10   New Kimberlyborough     677.67              33                30\n",
      "11           West Angela    1013.61              48                39\n",
      "12           Roberthaven     569.50              47                24\n",
      "13           North Jason     796.03               6                35\n",
      "14          Williamsview     531.98              46                20\n",
      "15               Leahton     446.12              17                21\n",
      "16          West Anthony     742.10              70                30\n",
      "17           New Paulton     528.58              44                19\n",
      "18   West Patrickchester     451.73              25                16\n",
      "19             Deanville     491.01              49                19\n",
      "20       West Josephberg     564.73              45                26\n",
      "21      West Samuelburgh     544.19              73                25\n",
      "22            West Heidi     647.75              28                28\n",
      "23             Loganberg     708.19              23                28\n",
      "24           Huntermouth     695.85              37                24\n",
      "25           Grahamburgh     630.53              61                25\n",
      "26            Port Frank     897.65              23                33\n",
      "27       East Kaylahaven     688.98              65                29\n",
      "28           West Robert     778.84              39                31\n",
      "29        North Markport     385.06              22                14\n",
      "..                   ...        ...             ...               ...\n",
      "90            Port Shane     590.48               7                19\n",
      "91         North Timothy     468.93               7                15\n",
      "92          Veronicaberg     558.08              20                17\n",
      "93       Williamsonville     446.25               2                14\n",
      "94            Lewishaven     302.90              23                12\n",
      "95              Lake Ann     370.68               3                12\n",
      "96             Grayville     416.45               2                15\n",
      "97           Colemanland     679.68              23                22\n",
      "98         West Kimmouth     597.43               4                20\n",
      "99           Mezachester     522.92              14                17\n",
      "100            Davidfurt     543.93              23                17\n",
      "101      East Danielview     536.53              22                17\n",
      "102       Randallchester     148.71               9                 5\n",
      "103          North Holly     262.17               8                 9\n",
      "104          Michaelberg     419.97               6                12\n",
      "105      Lake Latoyabury     286.68               2                11\n",
      "106          Taylorhaven     253.58               1                 6\n",
      "107            Garzaport      72.37               7                 3\n",
      "108         New Ryantown     259.67               2                 6\n",
      "109         Bradshawfurt     400.64               7                10\n",
      "110    South Marychester     334.96               1                 8\n",
      "111          Jessicaport     216.08               1                 6\n",
      "112       South Jennifer     246.85               7                 7\n",
      "113      South Saramouth     144.64               7                 4\n",
      "114           Lake Jamie     206.15               4                 6\n",
      "115           Newtonview     146.98               1                 4\n",
      "116          North Jaime     246.42               1                 8\n",
      "117          Penaborough     176.23               6                 5\n",
      "118       Harringtonfort     200.82               4                 6\n",
      "119         West Heather     305.01               4                 9\n",
      "\n",
      "[120 rows x 4 columns]\n"
     ]
    }
   ],
   "source": [
    "#finding the average fare per city\n",
    "# total number of rides per city\n",
    "# total number of drivers per city\n",
    "#the city type\n",
    "\n",
    "gbdf = merge_table.groupby(\"city\")\n",
    "\n",
    "ave_fare_per_city = gbdf.mean()\n",
    "\n",
    "ridenum = []\n",
    "citytype = []\n",
    "fare_by_city = []\n",
    "citygroup = cdf.groupby(\"city\")\n",
    "for city, city_df in gbdf:\n",
    "    ridenum.append(len(gbdf.get_group(city)))\n",
    "    citytype.append(gbdf.get_group(city).iloc[0,5])\n",
    "    \n",
    "    \n",
    "ave_fare_per_city[\"ridespc\"] = ridenum\n",
    "\n",
    "ave_fare_per_city[\"city type\"] = citytype\n",
    "\n",
    "print(ave_fare_per_city.head())\n",
    "\n",
    "\n",
    "\n",
    "urban1 = ave_fare_per_city.loc[ave_fare_per_city[\"city type\"] == \"Urban\",:]\n",
    "suburban1 = ave_fare_per_city.loc[ave_fare_per_city[\"city type\"] == \"Suburban\",:]\n",
    "rural1 = ave_fare_per_city.loc[ave_fare_per_city[\"city type\"] == \"Rural\",:]\n",
    "print(urban1.head())\n",
    "\n",
    "ave_fare_urban = urban1[\"fare\"].mean()\n",
    "rides_per_city_urban = urban1[\"ridespc\"].sum()\n",
    "drivers_per_city_urban = urban1[\"driver_count\"].sum()\n",
    "\n",
    "\n",
    "ave_fare_suburban = suburban1[\"fare\"].mean()\n",
    "rides_per_city_suburban = suburban1[\"ridespc\"].sum()\n",
    "drivers_per_city_suburban = suburban1[\"driver_count\"].sum()\n",
    "\n",
    "\n",
    "ave_fare_rural = rural1[\"fare\"].mean()\n",
    "rides_per_city_rural = rural1[\"ridespc\"].sum()\n",
    "drivers_per_city_rural = rural1[\"driver_count\"].sum()\n",
    "\n",
    "ave_fare = [ave_fare_urban,ave_fare_suburban,ave_fare_rural]\n",
    "rides_per_city = [rides_per_city_urban,rides_per_city_suburban,rides_per_city_rural]\n",
    "drivers_per_city = [drivers_per_city_urban,drivers_per_city_suburban,drivers_per_city_rural]\n",
    "\n",
    "\n",
    "bubble_df = pd.DataFrame({\"type\":[\"Urban\",\"Suburban\",\"Rural\"],\n",
    "              \"Average Fare\":ave_fare,\n",
    "              \"Rides Per City\":rides_per_city,\n",
    "              \"Drivers Per City\":drivers_per_city},index=[0,1,2])\n",
    "\n",
    "\n",
    "citylist = merge_table[\"city\"].unique()\n",
    "\n",
    "bubdf = pd.DataFrame({\"City\":citylist,\n",
    "              \"City Fare\": cityfarelist,\n",
    "              \"Rides Per City\" : cityridelist,\n",
    "              \"Drivers Per City\": drivers_per_city_list})\n",
    "\n",
    "\n",
    "\n",
    "print(bubdf)\n",
    "\n"
   ]
  },
  {
   "cell_type": "code",
   "execution_count": 5,
   "metadata": {},
   "outputs": [],
   "source": [
    "\n",
    "cityfarelist = []\n",
    "cityridelist = []\n",
    "drivers_per_city_list = []\n",
    "for city in citylist:\n",
    "    cityfarelist.append(merge_table.loc[merge_table[\"city\"] == city,:][\"fare\"].sum())\n",
    "    cityridelist.append(merge_table.loc[merge_table[\"city\"] == city,:].iloc[0,4])\n",
    "    drivers_per_city_list.append(len(merge_table.loc[merge_table[\"city\"] == city,:]))\n",
    "    \n",
    "    \n",
    "#drivers_per_city_list"
   ]
  },
  {
   "cell_type": "code",
   "execution_count": 6,
   "metadata": {},
   "outputs": [
    {
     "data": {
      "text/html": [
       "<div>\n",
       "<style scoped>\n",
       "    .dataframe tbody tr th:only-of-type {\n",
       "        vertical-align: middle;\n",
       "    }\n",
       "\n",
       "    .dataframe tbody tr th {\n",
       "        vertical-align: top;\n",
       "    }\n",
       "\n",
       "    .dataframe thead th {\n",
       "        text-align: right;\n",
       "    }\n",
       "</style>\n",
       "<table border=\"1\" class=\"dataframe\">\n",
       "  <thead>\n",
       "    <tr style=\"text-align: right;\">\n",
       "      <th></th>\n",
       "      <th>city</th>\n",
       "      <th>date</th>\n",
       "      <th>fare</th>\n",
       "      <th>ride_id</th>\n",
       "      <th>driver_count</th>\n",
       "      <th>type</th>\n",
       "    </tr>\n",
       "  </thead>\n",
       "  <tbody>\n",
       "    <tr>\n",
       "      <th>2366</th>\n",
       "      <td>West Heather</td>\n",
       "      <td>2018-03-12 04:22:26</td>\n",
       "      <td>26.55</td>\n",
       "      <td>7035849392668</td>\n",
       "      <td>4</td>\n",
       "      <td>Rural</td>\n",
       "    </tr>\n",
       "    <tr>\n",
       "      <th>2367</th>\n",
       "      <td>West Heather</td>\n",
       "      <td>2018-02-22 09:01:37</td>\n",
       "      <td>17.40</td>\n",
       "      <td>8702491506161</td>\n",
       "      <td>4</td>\n",
       "      <td>Rural</td>\n",
       "    </tr>\n",
       "    <tr>\n",
       "      <th>2368</th>\n",
       "      <td>West Heather</td>\n",
       "      <td>2018-02-22 01:46:43</td>\n",
       "      <td>33.38</td>\n",
       "      <td>5551691454078</td>\n",
       "      <td>4</td>\n",
       "      <td>Rural</td>\n",
       "    </tr>\n",
       "    <tr>\n",
       "      <th>2369</th>\n",
       "      <td>West Heather</td>\n",
       "      <td>2018-02-04 16:29:23</td>\n",
       "      <td>13.97</td>\n",
       "      <td>7118893881453</td>\n",
       "      <td>4</td>\n",
       "      <td>Rural</td>\n",
       "    </tr>\n",
       "    <tr>\n",
       "      <th>2370</th>\n",
       "      <td>West Heather</td>\n",
       "      <td>2018-04-18 19:33:12</td>\n",
       "      <td>46.60</td>\n",
       "      <td>3671003215967</td>\n",
       "      <td>4</td>\n",
       "      <td>Rural</td>\n",
       "    </tr>\n",
       "    <tr>\n",
       "      <th>2371</th>\n",
       "      <td>West Heather</td>\n",
       "      <td>2018-03-02 21:04:10</td>\n",
       "      <td>20.99</td>\n",
       "      <td>5766454453070</td>\n",
       "      <td>4</td>\n",
       "      <td>Rural</td>\n",
       "    </tr>\n",
       "    <tr>\n",
       "      <th>2372</th>\n",
       "      <td>West Heather</td>\n",
       "      <td>2018-03-06 20:06:51</td>\n",
       "      <td>48.11</td>\n",
       "      <td>2570548892682</td>\n",
       "      <td>4</td>\n",
       "      <td>Rural</td>\n",
       "    </tr>\n",
       "    <tr>\n",
       "      <th>2373</th>\n",
       "      <td>West Heather</td>\n",
       "      <td>2018-02-02 06:28:04</td>\n",
       "      <td>53.07</td>\n",
       "      <td>2462950442268</td>\n",
       "      <td>4</td>\n",
       "      <td>Rural</td>\n",
       "    </tr>\n",
       "    <tr>\n",
       "      <th>2374</th>\n",
       "      <td>West Heather</td>\n",
       "      <td>2018-05-07 19:22:15</td>\n",
       "      <td>44.94</td>\n",
       "      <td>4256853490277</td>\n",
       "      <td>4</td>\n",
       "      <td>Rural</td>\n",
       "    </tr>\n",
       "  </tbody>\n",
       "</table>\n",
       "</div>"
      ],
      "text/plain": [
       "              city                 date   fare        ride_id  driver_count  \\\n",
       "2366  West Heather  2018-03-12 04:22:26  26.55  7035849392668             4   \n",
       "2367  West Heather  2018-02-22 09:01:37  17.40  8702491506161             4   \n",
       "2368  West Heather  2018-02-22 01:46:43  33.38  5551691454078             4   \n",
       "2369  West Heather  2018-02-04 16:29:23  13.97  7118893881453             4   \n",
       "2370  West Heather  2018-04-18 19:33:12  46.60  3671003215967             4   \n",
       "2371  West Heather  2018-03-02 21:04:10  20.99  5766454453070             4   \n",
       "2372  West Heather  2018-03-06 20:06:51  48.11  2570548892682             4   \n",
       "2373  West Heather  2018-02-02 06:28:04  53.07  2462950442268             4   \n",
       "2374  West Heather  2018-05-07 19:22:15  44.94  4256853490277             4   \n",
       "\n",
       "       type  \n",
       "2366  Rural  \n",
       "2367  Rural  \n",
       "2368  Rural  \n",
       "2369  Rural  \n",
       "2370  Rural  \n",
       "2371  Rural  \n",
       "2372  Rural  \n",
       "2373  Rural  \n",
       "2374  Rural  "
      ]
     },
     "execution_count": 6,
     "metadata": {},
     "output_type": "execute_result"
    }
   ],
   "source": [
    "merge_table.loc[merge_table[\"city\"] == city,:]#.iloc[0,4]\n",
    "\n"
   ]
  },
  {
   "cell_type": "code",
   "execution_count": 9,
   "metadata": {},
   "outputs": [],
   "source": [
    "bubdf.head()\n",
    "bubdf[\"city type\"] = \"\"\n",
    "bubdf[\"color\"] = \"\"\n",
    "ct = 0\n",
    "for city in bubdf[\"City\"]:\n",
    "    typecity = ave_fare_per_city.loc[city,\"city type\"]\n",
    "    bubdf.loc[bubdf[\"City\"]==city,\"city type\"] = typecity\n",
    "    if typecity == \"Urban\":\n",
    "        bubdf.loc[bubdf[\"City\"]==city,\"color\"] = \"Gold\"\n",
    "    elif typecity == \"Suburban\":\n",
    "        bubdf.loc[bubdf[\"City\"]==city,\"color\"] = \"SkyBlue\"\n",
    "        \n",
    "    else:\n",
    "        bubdf.loc[bubdf[\"City\"]==city,\"color\"] = \"Coral\""
   ]
  },
  {
   "cell_type": "code",
   "execution_count": 21,
   "metadata": {},
   "outputs": [],
   "source": [
    "bubdf.head()\n",
    "#ave_fare_per_city.loc[\"Amandaburgh\",\"city type\"]\n",
    "#citytype\n",
    "\n",
    "newdf = pd.DataFrame({\n",
    "    \"type\":[\"Urban\",\"Suburban\",\"Rural\"],\n",
    "    \"color\":[\"Gold\",\"SkyBlue\",\"Coral\"]\n",
    "})"
   ]
  },
  {
   "cell_type": "code",
   "execution_count": 42,
   "metadata": {},
   "outputs": [
    {
     "data": {
      "image/png": "[encoded data removed]",
      "text/plain": [
       "<Figure size 432x288 with 1 Axes>"
      ]
     },
     "metadata": {
      "needs_background": "light"
     },
     "output_type": "display_data"
    }
   ],
   "source": [
    "#bubble_df.plot.scatter(x = 'Rides Per City',y = 'Average Fare')\n",
    "#color_list = [\"Gold\", \"SkyBlue\", \"Coral\"]\n",
    "plt.scatter(bubdf[\"Rides Per City\"], bubdf[\"City Fare\"], marker=\"o\", facecolors=\"red\", edgecolors=\"black\",\n",
    "            s=10*bubdf[\"Drivers Per City\"], alpha=0.5,c=bubdf[\"color\"])\n",
    "\n",
    "plt.title(\"Rides per city, Average fare per city, Drivers per city, City type\")\n",
    "plt.xlabel(\"Total Rides Per City\")\n",
    "plt.ylabel(\"Average fare Per city\")\n",
    "aaa = []\n",
    "for i in range(0,len(newdf.index)):\n",
    "    aaa.append(mpatches.Patch(color=newdf[\"color\"][i],\n",
    "                             alpha = 0.5,\n",
    "                             label = newdf[\"type\"][i]))\n",
    "\n",
    "x,y = bubdf[\"Rides Per City\"], bubdf[\"City Fare\"]\n",
    "#for i,txt in enumerate(bubdf[\"City\"]):\n",
    "#    plt.annotate(txt, (x[i], y[i]))\n",
    "    \n",
    "plt.legend([\"Urban\",\"Suburban\",\"Rural\"] ,loc=(1.2,0.5))\n",
    "\n",
    "ct = 0\n",
    "qq = []\n",
    "\n",
    "\n",
    "\n"
   ]
  },
  {
   "cell_type": "code",
   "execution_count": 30,
   "metadata": {},
   "outputs": [],
   "source": [
    "# sky Blue means suburban \n",
    "# Coral means rural"
   ]
  },
  {
   "cell_type": "code",
   "execution_count": null,
   "metadata": {},
   "outputs": [],
   "source": []
  },
  {
   "cell_type": "code",
   "execution_count": 19,
   "metadata": {},
   "outputs": [],
   "source": [
    "#The urban cities are the ones where there are the most rides. I may be possible for the amount of rides being\n",
    "#shared to have an inpact on the average fare per city. When there is more demand for a ride shar then the price\n",
    "#will increase\n",
    "#\n",
    "# "
   ]
  },
  {
   "cell_type": "code",
   "execution_count": null,
   "metadata": {},
   "outputs": [],
   "source": []
  },
  {
   "cell_type": "code",
   "execution_count": 43,
   "metadata": {},
   "outputs": [
    {
     "data": {
      "text/plain": [
       "<matplotlib.legend.Legend at 0x116684b70>"
      ]
     },
     "execution_count": 43,
     "metadata": {},
     "output_type": "execute_result"
    },
    {
     "data": {
      "image/png": "[encoded data removed]",
      "text/plain": [
       "<Figure size 432x288 with 1 Axes>"
      ]
     },
     "metadata": {},
     "output_type": "display_data"
    }
   ],
   "source": [
    "#pie chart for the total rides by city type\n",
    "len(ave_fare_per_city[\"city type\"].unique())\n",
    "# Labels for the sections of our pie chart\n",
    "labels = []\n",
    "labels = ave_fare_per_city[\"city type\"].unique()\n",
    "\n",
    "# The values of each section of the pie chart\n",
    "city_type_list = []\n",
    "city_fares = []\n",
    "city_rides = ave_fare_per_city[\"ridespc\"]\n",
    "fare_per_city = []\n",
    "\n",
    "\n",
    "for label in labels:\n",
    "    a = ave_fare_per_city.loc[ave_fare_per_city[\"city type\"] == label,:]\n",
    "    city_type_list.append(len(a))\n",
    "   \n",
    "\n",
    "sizes = city_type_list\n",
    "\n",
    " \n",
    "colors = [\"Gold\", \"SkyBlue\", \"Coral\"]\n",
    "\n",
    "explode = (0.1, 0.1, 0.1)\n",
    "\n",
    "plt.pie(sizes, explode=explode, labels=labels, colors=colors,\n",
    "        autopct=\"%1.1f%%\", shadow=True, startangle=140)\n",
    "plt.title(\"Total Rides by City Type\")\n",
    "plt.legend([\"Urban\",\"Suburban\",\"Rural\"], loc=(1,0))\n"
   ]
  },
  {
   "cell_type": "code",
   "execution_count": 44,
   "metadata": {},
   "outputs": [],
   "source": [
    "# pie chart for total fares by city type and total drivers by city type\n",
    "labels = ave_fare_per_city[\"city type\"].unique()\n",
    "\n",
    "thedf = merge_table.groupby(\"type\")\n",
    "urban = thedf.get_group(labels[0])\n",
    "suburban = thedf.get_group(labels[1])\n",
    "rural = thedf.get_group(labels[2])\n",
    "\n",
    "\n",
    "pfare_by_city_type = []\n",
    "pfare_by_city_type.append( urban[\"fare\"].sum())\n",
    "pfare_by_city_type.append(suburban[\"fare\"].sum())\n",
    "pfare_by_city_type.append(rural[\"fare\"].sum())\n",
    "\n",
    "p_drivers_by_city_type = []\n",
    "p_drivers_by_city_type.append(urban[\"driver_count\"].sum())\n",
    "p_drivers_by_city_type.append(suburban[\"driver_count\"].sum())\n",
    "p_drivers_by_city_type.append(rural[\"driver_count\"].sum())"
   ]
  },
  {
   "cell_type": "code",
   "execution_count": 47,
   "metadata": {},
   "outputs": [
    {
     "data": {
      "text/plain": [
       "<matplotlib.legend.Legend at 0x115f5b7f0>"
      ]
     },
     "execution_count": 47,
     "metadata": {},
     "output_type": "execute_result"
    },
    {
     "data": {
      "image/png": "[encoded data removed]",
      "text/plain": [
       "<Figure size 432x288 with 1 Axes>"
      ]
     },
     "metadata": {},
     "output_type": "display_data"
    }
   ],
   "source": [
    "plt.pie(pfare_by_city_type, explode=explode, labels=labels, colors=colors,\n",
    "        autopct=\"%1.1f%%\", shadow=True, startangle=140)\n",
    "plt.title(\"Total Fares by City Type\")\n",
    "plt.legend([\"Urban\",\"Suburban\",\"Rural\"], loc=(1,0))"
   ]
  },
  {
   "cell_type": "code",
   "execution_count": 48,
   "metadata": {},
   "outputs": [
    {
     "data": {
      "text/plain": [
       "<matplotlib.legend.Legend at 0x116eb5a20>"
      ]
     },
     "execution_count": 48,
     "metadata": {},
     "output_type": "execute_result"
    },
    {
     "data": {
      "image/png": "[encoded data removed]",
      "text/plain": [
       "<Figure size 432x288 with 1 Axes>"
      ]
     },
     "metadata": {},
     "output_type": "display_data"
    }
   ],
   "source": [
    "plt.pie(p_drivers_by_city_type, explode=explode, labels=labels, colors=colors,\n",
    "        autopct=\"%1.1f%%\", shadow=True, startangle=140)\n",
    "plt.title(\"Total Drivers by City Type\")\n",
    "plt.legend([\"Urban\",\"Suburban\",\"Rural\"], loc=(1,0))"
   ]
  },
  {
   "cell_type": "markdown",
   "metadata": {},
   "source": [
    "## Bubble Plot of Ride Sharing Data"
   ]
  },
  {
   "cell_type": "raw",
   "metadata": {},
   "source": []
  },
  {
   "cell_type": "code",
   "execution_count": null,
   "metadata": {},
   "outputs": [],
   "source": []
  },
  {
   "cell_type": "code",
   "execution_count": null,
   "metadata": {},
   "outputs": [],
   "source": []
  },
  {
   "cell_type": "code",
   "execution_count": null,
   "metadata": {},
   "outputs": [],
   "source": [
    "# Obtain the x and y coordinates for each of the three city types\n",
    "\n",
    "# Build the scatter plots for each city types\n",
    "\n",
    "# Incorporate the other graph properties\n",
    "\n",
    "# Create a legend\n",
    "\n",
    "# Incorporate a text label regarding circle size\n",
    "\n",
    "# Save Figure\n"
   ]
  },
  {
   "cell_type": "code",
   "execution_count": null,
   "metadata": {},
   "outputs": [],
   "source": [
    "# Show plot\n",
    "plt.show()"
   ]
  },
  {
   "cell_type": "markdown",
   "metadata": {},
   "source": [
    "## Total Fares by City Type"
   ]
  },
  {
   "cell_type": "code",
   "execution_count": null,
   "metadata": {},
   "outputs": [],
   "source": [
    "# Calculate Type Percents\n",
    "\n",
    "# Build Pie Chart\n",
    "\n",
    "# Save Figure\n"
   ]
  },
  {
   "cell_type": "code",
   "execution_count": null,
   "metadata": {},
   "outputs": [],
   "source": [
    "# Show Figure\n",
    "plt.show()"
   ]
  },
  {
   "cell_type": "markdown",
   "metadata": {},
   "source": [
    "## Total Rides by City Type"
   ]
  },
  {
   "cell_type": "code",
   "execution_count": null,
   "metadata": {},
   "outputs": [],
   "source": [
    "# Calculate Ride Percents\n",
    "\n",
    "# Build Pie Chart\n",
    "\n",
    "# Save Figure\n"
   ]
  },
  {
   "cell_type": "code",
   "execution_count": null,
   "metadata": {},
   "outputs": [],
   "source": [
    "# Show Figure\n",
    "plt.show()"
   ]
  },
  {
   "cell_type": "markdown",
   "metadata": {},
   "source": [
    "## Total Drivers by City Type"
   ]
  },
  {
   "cell_type": "code",
   "execution_count": null,
   "metadata": {},
   "outputs": [],
   "source": [
    "# Calculate Driver Percents\n",
    "\n",
    "# Build Pie Charts\n",
    "\n",
    "# Save Figure\n"
   ]
  },
  {
   "cell_type": "code",
   "execution_count": null,
   "metadata": {
    "scrolled": true
   },
   "outputs": [],
   "source": [
    "# Show Figure\n",
    "plt.show()"
   ]
  },
  {
   "cell_type": "code",
   "execution_count": null,
   "metadata": {},
   "outputs": [],
   "source": []
  }
 ],
 "metadata": {
  "anaconda-cloud": {},
  "kernelspec": {
   "display_name": "Python 3",
   "language": "python",
   "name": "python3"
  },
  "language_info": {
   "codemirror_mode": {
    "name": "ipython",
    "version": 3
   },
   "file_extension": ".py",
   "mimetype": "text/x-python",
   "name": "python",
   "nbconvert_exporter": "python",
   "pygments_lexer": "ipython3",
   "version": "3.6.8"
  }
 },
 "nbformat": 4,
 "nbformat_minor": 2
}
