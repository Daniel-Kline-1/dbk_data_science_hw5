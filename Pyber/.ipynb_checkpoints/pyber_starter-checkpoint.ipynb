{
 "cells": [
  {
   "cell_type": "code",
   "execution_count": 1,
   "metadata": {},
   "outputs": [
    {
     "data": {
      "text/html": [
       "<div>\n",
       "<style scoped>\n",
       "    .dataframe tbody tr th:only-of-type {\n",
       "        vertical-align: middle;\n",
       "    }\n",
       "\n",
       "    .dataframe tbody tr th {\n",
       "        vertical-align: top;\n",
       "    }\n",
       "\n",
       "    .dataframe thead th {\n",
       "        text-align: right;\n",
       "    }\n",
       "</style>\n",
       "<table border=\"1\" class=\"dataframe\">\n",
       "  <thead>\n",
       "    <tr style=\"text-align: right;\">\n",
       "      <th></th>\n",
       "      <th>city</th>\n",
       "      <th>date</th>\n",
       "      <th>fare</th>\n",
       "      <th>ride_id</th>\n",
       "      <th>driver_count</th>\n",
       "      <th>type</th>\n",
       "    </tr>\n",
       "  </thead>\n",
       "  <tbody>\n",
       "    <tr>\n",
       "      <th>0</th>\n",
       "      <td>Lake Jonathanshire</td>\n",
       "      <td>2018-01-14 10:14:22</td>\n",
       "      <td>13.83</td>\n",
       "      <td>5739410935873</td>\n",
       "      <td>5</td>\n",
       "      <td>Urban</td>\n",
       "    </tr>\n",
       "    <tr>\n",
       "      <th>1</th>\n",
       "      <td>Lake Jonathanshire</td>\n",
       "      <td>2018-04-07 20:51:11</td>\n",
       "      <td>31.25</td>\n",
       "      <td>4441251834598</td>\n",
       "      <td>5</td>\n",
       "      <td>Urban</td>\n",
       "    </tr>\n",
       "    <tr>\n",
       "      <th>2</th>\n",
       "      <td>Lake Jonathanshire</td>\n",
       "      <td>2018-03-09 23:45:55</td>\n",
       "      <td>19.89</td>\n",
       "      <td>2389495660448</td>\n",
       "      <td>5</td>\n",
       "      <td>Urban</td>\n",
       "    </tr>\n",
       "    <tr>\n",
       "      <th>3</th>\n",
       "      <td>Lake Jonathanshire</td>\n",
       "      <td>2018-04-07 18:09:21</td>\n",
       "      <td>24.28</td>\n",
       "      <td>7796805191168</td>\n",
       "      <td>5</td>\n",
       "      <td>Urban</td>\n",
       "    </tr>\n",
       "    <tr>\n",
       "      <th>4</th>\n",
       "      <td>Lake Jonathanshire</td>\n",
       "      <td>2018-01-02 14:14:50</td>\n",
       "      <td>13.89</td>\n",
       "      <td>424254840012</td>\n",
       "      <td>5</td>\n",
       "      <td>Urban</td>\n",
       "    </tr>\n",
       "  </tbody>\n",
       "</table>\n",
       "</div>"
      ],
      "text/plain": [
       "                 city                 date   fare        ride_id  \\\n",
       "0  Lake Jonathanshire  2018-01-14 10:14:22  13.83  5739410935873   \n",
       "1  Lake Jonathanshire  2018-04-07 20:51:11  31.25  4441251834598   \n",
       "2  Lake Jonathanshire  2018-03-09 23:45:55  19.89  2389495660448   \n",
       "3  Lake Jonathanshire  2018-04-07 18:09:21  24.28  7796805191168   \n",
       "4  Lake Jonathanshire  2018-01-02 14:14:50  13.89   424254840012   \n",
       "\n",
       "   driver_count   type  \n",
       "0             5  Urban  \n",
       "1             5  Urban  \n",
       "2             5  Urban  \n",
       "3             5  Urban  \n",
       "4             5  Urban  "
      ]
     },
     "execution_count": 1,
     "metadata": {},
     "output_type": "execute_result"
    }
   ],
   "source": [
    "%matplotlib inline\n",
    "# Dependencies and Setup\n",
    "import matplotlib.pyplot as plt\n",
    "import pandas as pd\n",
    "import numpy as np\n",
    "import os\n",
    "import csv\n",
    "# File to Load (Remember to change these)\n",
    "city_data_to_load = \"data/city_data.csv\"\n",
    "ride_data_to_load = \"data/ride_data.csv\"\n",
    "\n",
    "# Read the City and Ride Data\n",
    "cdf = pd.read_csv(city_data_to_load)\n",
    "rdf = pd.read_csv(ride_data_to_load)\n",
    "\n",
    "# Combine the data into a single dataset\n",
    "merge_table = pd.merge(rdf, cdf, on=\"city\", how=\"outer\")\n",
    "\n",
    "\n",
    "# Display the data table for preview\n",
    "merge_table.head()\n",
    "#print(gbdf.head())"
   ]
  },
  {
   "cell_type": "code",
   "execution_count": 2,
   "metadata": {
    "scrolled": true
   },
   "outputs": [
    {
     "name": "stdout",
     "output_type": "stream",
     "text": [
      "                    fare       ride_id  driver_count  ridespc city type\n",
      "city                                                                   \n",
      "Amandaburgh    24.641667  5.359336e+12          12.0       18     Urban\n",
      "Barajasview    25.332273  4.676968e+12          26.0       22     Urban\n",
      "Barronchester  36.422500  4.460796e+12          11.0       16  Suburban\n",
      "Bethanyland    32.956111  5.842550e+12          22.0       18  Suburban\n",
      "Bradshawfurt   40.064000  3.735294e+12           7.0       10     Rural\n",
      "                      fare       ride_id  driver_count  ridespc city type\n",
      "city                                                                     \n",
      "Amandaburgh      24.641667  5.359336e+12          12.0       18     Urban\n",
      "Barajasview      25.332273  4.676968e+12          26.0       22     Urban\n",
      "Carriemouth      28.314444  5.184855e+12          52.0       27     Urban\n",
      "Christopherfurt  24.501852  4.582307e+12          41.0       27     Urban\n",
      "Deanville        25.842632  4.901508e+12          49.0       19     Urban\n"
     ]
    },
    {
     "data": {
      "text/html": [
       "<div>\n",
       "<style scoped>\n",
       "    .dataframe tbody tr th:only-of-type {\n",
       "        vertical-align: middle;\n",
       "    }\n",
       "\n",
       "    .dataframe tbody tr th {\n",
       "        vertical-align: top;\n",
       "    }\n",
       "\n",
       "    .dataframe thead th {\n",
       "        text-align: right;\n",
       "    }\n",
       "</style>\n",
       "<table border=\"1\" class=\"dataframe\">\n",
       "  <thead>\n",
       "    <tr style=\"text-align: right;\">\n",
       "      <th></th>\n",
       "      <th>type</th>\n",
       "      <th>Average Fare</th>\n",
       "      <th>Rides Per City</th>\n",
       "      <th>Drivers Per City</th>\n",
       "    </tr>\n",
       "  </thead>\n",
       "  <tbody>\n",
       "    <tr>\n",
       "      <th>0</th>\n",
       "      <td>Urban</td>\n",
       "      <td>24.499122</td>\n",
       "      <td>1625</td>\n",
       "      <td>2405.0</td>\n",
       "    </tr>\n",
       "    <tr>\n",
       "      <th>1</th>\n",
       "      <td>Suburban</td>\n",
       "      <td>30.737298</td>\n",
       "      <td>625</td>\n",
       "      <td>490.0</td>\n",
       "    </tr>\n",
       "    <tr>\n",
       "      <th>2</th>\n",
       "      <td>Rural</td>\n",
       "      <td>34.637765</td>\n",
       "      <td>125</td>\n",
       "      <td>78.0</td>\n",
       "    </tr>\n",
       "  </tbody>\n",
       "</table>\n",
       "</div>"
      ],
      "text/plain": [
       "       type  Average Fare  Rides Per City  Drivers Per City\n",
       "0     Urban     24.499122            1625            2405.0\n",
       "1  Suburban     30.737298             625             490.0\n",
       "2     Rural     34.637765             125              78.0"
      ]
     },
     "execution_count": 2,
     "metadata": {},
     "output_type": "execute_result"
    }
   ],
   "source": [
    "#finding the average fare per city\n",
    "# total number of rides per city\n",
    "# total number of drivers per city\n",
    "#the city type\n",
    "\n",
    "gbdf = merge_table.groupby(\"city\")\n",
    "\n",
    "ave_fare_per_city = gbdf.mean()\n",
    "\n",
    "ridenum = []\n",
    "citytype = []\n",
    "fare_by_city = []\n",
    "citygroup = cdf.groupby(\"city\")\n",
    "for city, city_df in gbdf:\n",
    "    ridenum.append(len(gbdf.get_group(city)))\n",
    "    citytype.append(gbdf.get_group(city).iloc[0,5])\n",
    "    \n",
    "    \n",
    "ave_fare_per_city[\"ridespc\"] = ridenum\n",
    "\n",
    "ave_fare_per_city[\"city type\"] = citytype\n",
    "\n",
    "print(ave_fare_per_city.head())\n",
    "\n",
    "\n",
    "\n",
    "urban1 = ave_fare_per_city.loc[ave_fare_per_city[\"city type\"] == \"Urban\",:]\n",
    "suburban1 = ave_fare_per_city.loc[ave_fare_per_city[\"city type\"] == \"Suburban\",:]\n",
    "rural1 = ave_fare_per_city.loc[ave_fare_per_city[\"city type\"] == \"Rural\",:]\n",
    "print(urban1.head())\n",
    "\n",
    "ave_fare_urban = urban1[\"fare\"].mean()\n",
    "rides_per_city_urban = urban1[\"ridespc\"].sum()\n",
    "drivers_per_city_urban = urban1[\"driver_count\"].sum()\n",
    "\n",
    "\n",
    "ave_fare_suburban = suburban1[\"fare\"].mean()\n",
    "rides_per_city_suburban = suburban1[\"ridespc\"].sum()\n",
    "drivers_per_city_suburban = suburban1[\"driver_count\"].sum()\n",
    "\n",
    "\n",
    "ave_fare_rural = rural1[\"fare\"].mean()\n",
    "rides_per_city_rural = rural1[\"ridespc\"].sum()\n",
    "drivers_per_city_rural = rural1[\"driver_count\"].sum()\n",
    "\n",
    "ave_fare = [ave_fare_urban,ave_fare_suburban,ave_fare_rural]\n",
    "rides_per_city = [rides_per_city_urban,rides_per_city_suburban,rides_per_city_rural]\n",
    "drivers_per_city = [drivers_per_city_urban,drivers_per_city_suburban,drivers_per_city_rural]\n",
    "\n",
    "\n",
    "bubble_df = pd.DataFrame({\"type\":[\"Urban\",\"Suburban\",\"Rural\"],\n",
    "              \"Average Fare\":ave_fare,\n",
    "              \"Rides Per City\":rides_per_city,\n",
    "              \"Drivers Per City\":drivers_per_city},index=[0,1,2])\n",
    "\n",
    "\n",
    "bubble_df \n"
   ]
  },
  {
   "cell_type": "code",
   "execution_count": 3,
   "metadata": {},
   "outputs": [
    {
     "data": {
      "image/png": "[encoded data removed]",
      "text/plain": [
       "<Figure size 432x288 with 1 Axes>"
      ]
     },
     "metadata": {
      "needs_background": "light"
     },
     "output_type": "display_data"
    }
   ],
   "source": [
    "#bubble_df.plot.scatter(x = 'Rides Per City',y = 'Average Fare')\n",
    "color_list = [\"Gold\", \"SkyBlue\", \"Coral\"]\n",
    "plt.scatter(bubble_df[\"Rides Per City\"], bubble_df[\"Average Fare\"], marker=\"o\", facecolors=\"red\", edgecolors=\"black\",\n",
    "            s=bubble_df[\"Drivers Per City\"], alpha=0.5,c=color_list)\n",
    "\n",
    "plt.title(\"Rides per city, Average fare per city, Crivers per city, City type\")\n",
    "plt.xlabel(\"Total Rides Per City\")\n",
    "plt.ylabel(\"Average fare Per city\")\n",
    "#plt.legend([\"Urban\",\"Suburban\",\"Rural\"])\n",
    "\n",
    "x,y = bubble_df[\"Rides Per City\"], bubble_df[\"Average Fare\"]\n",
    "for i,txt in enumerate(bubble_df[\"type\"]):\n",
    "    plt.annotate(txt, (x[i], y[i]))\n",
    "    \n",
    "\n",
    "type_list = list(bubble_df[\"type\"])\n",
    "\n",
    "ct = 0\n",
    "qq = []\n",
    "\n",
    "\n",
    "\n"
   ]
  },
  {
   "cell_type": "code",
   "execution_count": 4,
   "metadata": {},
   "outputs": [],
   "source": [
    "# The size of each bubble is dependant on the number of drivers per city. we can see that there \n",
    "#are more people getting rides in the urban areas. we can also see that the cost of each\n",
    "#fare is lower in the urban cities. The data suggest that the density of a population\n",
    "# may be coralated to the supply and demand of ride sharers."
   ]
  },
  {
   "cell_type": "code",
   "execution_count": null,
   "metadata": {},
   "outputs": [],
   "source": []
  },
  {
   "cell_type": "code",
   "execution_count": 5,
   "metadata": {},
   "outputs": [
    {
     "data": {
      "text/plain": [
       "<matplotlib.legend.Legend at 0x1114b7048>"
      ]
     },
     "execution_count": 5,
     "metadata": {},
     "output_type": "execute_result"
    },
    {
     "data": {
      "image/png": "[encoded data removed]",
      "text/plain": [
       "<Figure size 432x288 with 1 Axes>"
      ]
     },
     "metadata": {},
     "output_type": "display_data"
    }
   ],
   "source": [
    "#pie chart for the total rides by city type\n",
    "len(ave_fare_per_city[\"city type\"].unique())\n",
    "# Labels for the sections of our pie chart\n",
    "labels = []\n",
    "labels = ave_fare_per_city[\"city type\"].unique()\n",
    "\n",
    "# The values of each section of the pie chart\n",
    "city_type_list = []\n",
    "city_fares = []\n",
    "city_rides = ave_fare_per_city[\"ridespc\"]\n",
    "fare_per_city = []\n",
    "\n",
    "\n",
    "for label in labels:\n",
    "    a = ave_fare_per_city.loc[ave_fare_per_city[\"city type\"] == label,:]\n",
    "    city_type_list.append(len(a))\n",
    "   \n",
    "\n",
    "sizes = city_type_list\n",
    "\n",
    " \n",
    "colors = [\"Gold\", \"SkyBlue\", \"Coral\"]\n",
    "\n",
    "explode = (0.1, 0.1, 0.1)\n",
    "\n",
    "plt.pie(sizes, explode=explode, labels=labels, colors=colors,\n",
    "        autopct=\"%1.1f%%\", shadow=True, startangle=140)\n",
    "plt.title(\"Total Rides by City Type\")\n",
    "plt.legend([\"Urban\",\"Suburban\",\"Rural\"], loc=(1,0))\n"
   ]
  },
  {
   "cell_type": "code",
   "execution_count": 6,
   "metadata": {},
   "outputs": [],
   "source": [
    "# pie chart for total fares by city type and total drivers by city type\n",
    "labels = ave_fare_per_city[\"city type\"].unique()\n",
    "\n",
    "thedf = merge_table.groupby(\"type\")\n",
    "urban = thedf.get_group(labels[0])\n",
    "suburban = thedf.get_group(labels[1])\n",
    "rural = thedf.get_group(labels[2])\n",
    "\n",
    "\n",
    "pfare_by_city_type = []\n",
    "pfare_by_city_type.append( urban[\"fare\"].sum())\n",
    "pfare_by_city_type.append(suburban[\"fare\"].sum())\n",
    "pfare_by_city_type.append(rural[\"fare\"].sum())\n",
    "\n",
    "p_drivers_by_city_type = []\n",
    "p_drivers_by_city_type.append(urban[\"driver_count\"].sum())\n",
    "p_drivers_by_city_type.append(suburban[\"driver_count\"].sum())\n",
    "p_drivers_by_city_type.append(rural[\"driver_count\"].sum())"
   ]
  },
  {
   "cell_type": "code",
   "execution_count": 7,
   "metadata": {},
   "outputs": [
    {
     "data": {
      "text/plain": [
       "Text(0.5, 1.0, 'Total Fares by City Type')"
      ]
     },
     "execution_count": 7,
     "metadata": {},
     "output_type": "execute_result"
    },
    {
     "data": {
      "image/png": "[encoded data removed]",
      "text/plain": [
       "<Figure size 432x288 with 1 Axes>"
      ]
     },
     "metadata": {},
     "output_type": "display_data"
    }
   ],
   "source": [
    "plt.pie(pfare_by_city_type, explode=explode, labels=labels, colors=colors,\n",
    "        autopct=\"%1.1f%%\", shadow=True, startangle=140)\n",
    "plt.title(\"Total Fares by City Type\")"
   ]
  },
  {
   "cell_type": "code",
   "execution_count": 8,
   "metadata": {},
   "outputs": [
    {
     "data": {
      "text/plain": [
       "Text(0.5, 1.0, 'Total Drivers by City Type')"
      ]
     },
     "execution_count": 8,
     "metadata": {},
     "output_type": "execute_result"
    },
    {
     "data": {
      "image/png": "[encoded data removed]",
      "text/plain": [
       "<Figure size 432x288 with 1 Axes>"
      ]
     },
     "metadata": {},
     "output_type": "display_data"
    }
   ],
   "source": [
    "plt.pie(p_drivers_by_city_type, explode=explode, labels=labels, colors=colors,\n",
    "        autopct=\"%1.1f%%\", shadow=True, startangle=140)\n",
    "plt.title(\"Total Drivers by City Type\")"
   ]
  },
  {
   "cell_type": "markdown",
   "metadata": {},
   "source": [
    "## Bubble Plot of Ride Sharing Data"
   ]
  },
  {
   "cell_type": "raw",
   "metadata": {},
   "source": []
  },
  {
   "cell_type": "code",
   "execution_count": null,
   "metadata": {},
   "outputs": [],
   "source": []
  },
  {
   "cell_type": "code",
   "execution_count": null,
   "metadata": {},
   "outputs": [],
   "source": []
  },
  {
   "cell_type": "code",
   "execution_count": null,
   "metadata": {},
   "outputs": [],
   "source": [
    "# Obtain the x and y coordinates for each of the three city types\n",
    "\n",
    "# Build the scatter plots for each city types\n",
    "\n",
    "# Incorporate the other graph properties\n",
    "\n",
    "# Create a legend\n",
    "\n",
    "# Incorporate a text label regarding circle size\n",
    "\n",
    "# Save Figure\n"
   ]
  },
  {
   "cell_type": "code",
   "execution_count": null,
   "metadata": {},
   "outputs": [],
   "source": [
    "# Show plot\n",
    "plt.show()"
   ]
  },
  {
   "cell_type": "markdown",
   "metadata": {},
   "source": [
    "## Total Fares by City Type"
   ]
  },
  {
   "cell_type": "code",
   "execution_count": null,
   "metadata": {},
   "outputs": [],
   "source": [
    "# Calculate Type Percents\n",
    "\n",
    "# Build Pie Chart\n",
    "\n",
    "# Save Figure\n"
   ]
  },
  {
   "cell_type": "code",
   "execution_count": null,
   "metadata": {},
   "outputs": [],
   "source": [
    "# Show Figure\n",
    "plt.show()"
   ]
  },
  {
   "cell_type": "markdown",
   "metadata": {},
   "source": [
    "## Total Rides by City Type"
   ]
  },
  {
   "cell_type": "code",
   "execution_count": null,
   "metadata": {},
   "outputs": [],
   "source": [
    "# Calculate Ride Percents\n",
    "\n",
    "# Build Pie Chart\n",
    "\n",
    "# Save Figure\n"
   ]
  },
  {
   "cell_type": "code",
   "execution_count": null,
   "metadata": {},
   "outputs": [],
   "source": [
    "# Show Figure\n",
    "plt.show()"
   ]
  },
  {
   "cell_type": "markdown",
   "metadata": {},
   "source": [
    "## Total Drivers by City Type"
   ]
  },
  {
   "cell_type": "code",
   "execution_count": null,
   "metadata": {},
   "outputs": [],
   "source": [
    "# Calculate Driver Percents\n",
    "\n",
    "# Build Pie Charts\n",
    "\n",
    "# Save Figure\n"
   ]
  },
  {
   "cell_type": "code",
   "execution_count": null,
   "metadata": {
    "scrolled": true
   },
   "outputs": [],
   "source": [
    "# Show Figure\n",
    "plt.show()"
   ]
  },
  {
   "cell_type": "code",
   "execution_count": null,
   "metadata": {},
   "outputs": [],
   "source": []
  }
 ],
 "metadata": {
  "anaconda-cloud": {},
  "kernelspec": {
   "display_name": "Python 3",
   "language": "python",
   "name": "python3"
  },
  "language_info": {
   "codemirror_mode": {
    "name": "ipython",
    "version": 3
   },
   "file_extension": ".py",
   "mimetype": "text/x-python",
   "name": "python",
   "nbconvert_exporter": "python",
   "pygments_lexer": "ipython3",
   "version": "3.6.8"
  }
 },
 "nbformat": 4,
 "nbformat_minor": 2
}
